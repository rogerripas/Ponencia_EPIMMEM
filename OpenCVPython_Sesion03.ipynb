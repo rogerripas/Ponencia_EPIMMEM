{
  "nbformat": 4,
  "nbformat_minor": 0,
  "metadata": {
    "colab": {
      "name": "OpenCVPython-Sesion03.ipynb",
      "provenance": [],
      "collapsed_sections": []
    },
    "kernelspec": {
      "name": "python3",
      "display_name": "Python 3"
    }
  },
  "cells": [
    {
      "cell_type": "markdown",
      "metadata": {
        "id": "ABWyMODgQ9gQ"
      },
      "source": [
        "##EXTRACCIÓN DE CARACTERÍSTICAS"
      ]
    },
    {
      "cell_type": "markdown",
      "metadata": {
        "id": "Fqim4ZD9RD2E"
      },
      "source": [
        "Detección de formas"
      ]
    },
    {
      "cell_type": "code",
      "metadata": {
        "id": "ozS66LTKoCbQ"
      },
      "source": [
        "import cv2\n",
        "import numpy as np\n",
        "from skimage import io\n",
        "from google.colab.patches import cv2_imshow\n",
        "\n",
        "url = \"https://i.imgur.com/s3zNM51.png\"\n",
        "image = io.imread(url)\n",
        "image = cv2.cvtColor(image, cv2.COLOR_BGR2RGB)\n",
        "\n",
        "gray = cv2.cvtColor(image, cv2.COLOR_RGB2GRAY)\n",
        "canny = cv2.Canny(gray, 10, 150)\n",
        "canny = cv2.dilate(canny, None, iterations=1)\n",
        "canny = cv2.erode(canny, None, iterations=1)\n",
        "cnts,_ = cv2.findContours(canny, cv2.RETR_EXTERNAL, cv2.CHAIN_APPROX_SIMPLE)# OpenCV 4\n",
        "\n",
        "for c in cnts:\n",
        "  epsilon = 0.01*cv2.arcLength(c,True)\n",
        "  approx = cv2.approxPolyDP(c,epsilon,True)\n",
        "  x,y,w,h = cv2.boundingRect(approx)\n",
        "  if len(approx)==3:\n",
        "    cv2.putText(image,'Triangulo', (x,y-5),1,1.5,(0,255,0),2)\n",
        "  if len(approx)==4:\n",
        "    aspect_ratio = float(w)/h\n",
        "    print('aspect_ratio= ', aspect_ratio)\n",
        "    if aspect_ratio == 1:\n",
        "      cv2.putText(image,'Cuadrado', (x,y-5),1,1.5,(0,255,0),2)\n",
        "    else:\n",
        "      cv2.putText(image,'Rectangulo', (x,y-5),1,1.5,(0,255,0),2)\n",
        "  if len(approx)==5:\n",
        "    cv2.putText(image,'Pentagono', (x,y-5),1,1.5,(0,255,0),2)\n",
        "  if len(approx)==6:\n",
        "    cv2.putText(image,'Hexagono', (x,y-5),1,1.5,(0,255,0),2)\n",
        "  if len(approx)>10:\n",
        "    cv2.putText(image,'Circulo', (x,y-5),1,1.5,(0,255,0),2)\n",
        "  cv2.drawContours(image, [approx], 0, (0,255,0),2)\n",
        "\n",
        "cv2_imshow(image)"
      ],
      "execution_count": null,
      "outputs": []
    },
    {
      "cell_type": "markdown",
      "metadata": {
        "id": "fs3KATRjRHxn"
      },
      "source": [
        "Detección de puntos de interés: SIFT"
      ]
    },
    {
      "cell_type": "markdown",
      "metadata": {
        "id": "Ki0bZrce8-TR"
      },
      "source": [
        "* Instalación de la última versión de OpenCV-Contrib"
      ]
    },
    {
      "cell_type": "code",
      "metadata": {
        "colab": {
          "base_uri": "https://localhost:8080/"
        },
        "id": "cha9-_yG02Av",
        "outputId": "efbb6a2b-72c7-4291-b011-f21a417b5c7a"
      },
      "source": [
        "!pip install opencv-contrib-python==4.4.0.44"
      ],
      "execution_count": null,
      "outputs": [
        {
          "output_type": "stream",
          "text": [
            "Requirement already satisfied: opencv-contrib-python==4.4.0.44 in /usr/local/lib/python3.6/dist-packages (4.4.0.44)\n",
            "Requirement already satisfied: numpy>=1.13.3 in /usr/local/lib/python3.6/dist-packages (from opencv-contrib-python==4.4.0.44) (1.18.5)\n"
          ],
          "name": "stdout"
        }
      ]
    },
    {
      "cell_type": "code",
      "metadata": {
        "id": "Hh63_hpiqtBn"
      },
      "source": [
        "from random import randrange\n",
        "import matplotlib.pyplot as plt\n",
        "import numpy as np\n",
        "import cv2\n",
        "\n",
        "url2 = \"https://raw.githubusercontent.com/YoniChechik/AI_is_Math/master/c_08_features/left.jpg\"\n",
        "image2 = io.imread(url2)\n",
        "image2 = cv2.cvtColor(image2, cv2.COLOR_BGR2RGB)\n",
        "gray_l = cv2.cvtColor(image2, cv2.COLOR_RGB2GRAY)\n",
        "url3 = \"https://raw.githubusercontent.com/YoniChechik/AI_is_Math/master/c_08_features/right.jpg\"\n",
        "image3 = io.imread(url3)\n",
        "image3 = cv2.cvtColor(image3, cv2.COLOR_BGR2RGB)\n",
        "gray_r = cv2.cvtColor(image3, cv2.COLOR_RGB2GRAY)"
      ],
      "execution_count": null,
      "outputs": []
    },
    {
      "cell_type": "markdown",
      "metadata": {
        "id": "ZGMD5byV9dn3"
      },
      "source": [
        "* Detección de características con SIFT y descripción"
      ]
    },
    {
      "cell_type": "code",
      "metadata": {
        "id": "AnZP2gzu9dEx"
      },
      "source": [
        "# use orb if sift is not installed\n",
        "feature_extractor = cv2.SIFT_create()\n",
        "\n",
        "# find the keypoints and descriptors with chosen feature_extractor\n",
        "kp_l, desc_l = feature_extractor.detectAndCompute(gray_l, None)\n",
        "kp_r, desc_r = feature_extractor.detectAndCompute(gray_r, None)\n",
        "\n",
        "test = cv2.drawKeypoints(image2, kp_l, None, flags=cv2.DRAW_MATCHES_FLAGS_DRAW_RICH_KEYPOINTS)\n",
        "\n",
        "cv2_imshow(test)"
      ],
      "execution_count": null,
      "outputs": []
    },
    {
      "cell_type": "markdown",
      "metadata": {
        "id": "NDxamJnp-OWD"
      },
      "source": [
        "* Emparejamiento de características únicas"
      ]
    },
    {
      "cell_type": "code",
      "metadata": {
        "id": "telmIUDUzvq1"
      },
      "source": [
        "bf = cv2.BFMatcher()\n",
        "matches = bf.knnMatch(desc_l, desc_r, k=2)\n",
        "\n",
        "# Apply ratio test\n",
        "good_match = []\n",
        "for m in matches:\n",
        "    if m[0].distance/m[1].distance < 0.5:\n",
        "        good_match.append(m)\n",
        "good_match_arr = np.asarray(good_match)\n",
        "\n",
        "# show only 30 matches\n",
        "im_matches = cv2.drawMatchesKnn(image2, kp_l, image3, kp_r,\n",
        "                                good_match[0:100], None, flags=cv2.DrawMatchesFlags_NOT_DRAW_SINGLE_POINTS)\n",
        "\n",
        "cv2_imshow(im_matches)"
      ],
      "execution_count": null,
      "outputs": []
    },
    {
      "cell_type": "markdown",
      "metadata": {
        "id": "-Xx9nXMZ-WZ2"
      },
      "source": [
        "* Encontrando la homografía entre las imagenes"
      ]
    },
    {
      "cell_type": "code",
      "metadata": {
        "colab": {
          "base_uri": "https://localhost:8080/"
        },
        "id": "hsqpQD2C17mM",
        "outputId": "498b2010-24e3-4a36-9ccd-24a4f91427f7"
      },
      "source": [
        "good_kp_l = np.array([kp_l[m.queryIdx].pt for m in good_match_arr[:, 0]]).reshape(-1, 1, 2)\n",
        "good_kp_r = np.array([kp_r[m.trainIdx].pt for m in good_match_arr[:, 0]]).reshape(-1, 1, 2)\n",
        "H, masked = cv2.findHomography(good_kp_r, good_kp_l, cv2.RANSAC, 5.0)\n",
        "\n",
        "print(H)"
      ],
      "execution_count": null,
      "outputs": [
        {
          "output_type": "stream",
          "text": [
            "[[ 7.64973552e-01  3.48655815e-02  4.46971205e+02]\n",
            " [-1.35238875e-01  9.09695982e-01  7.64486507e+01]\n",
            " [-2.10645007e-04 -3.52392896e-05  1.00000000e+00]]\n"
          ],
          "name": "stdout"
        }
      ]
    },
    {
      "cell_type": "markdown",
      "metadata": {
        "id": "yMzn-l8h-dMP"
      },
      "source": [
        "* Superponiendo las imágenes"
      ]
    },
    {
      "cell_type": "code",
      "metadata": {
        "id": "Ew5ILJaR2G2I"
      },
      "source": [
        "rgb_r_warped = cv2.warpPerspective(image3, H, (image2.shape[1] + image3.shape[1], image2.shape[0]))\n",
        "rgb_r_warped[0:image2.shape[0], 0:image2.shape[1]] = image2\n",
        "\n",
        "cv2_imshow(rgb_r_warped)"
      ],
      "execution_count": null,
      "outputs": []
    },
    {
      "cell_type": "markdown",
      "metadata": {
        "id": "0O0yUZ81RVEC"
      },
      "source": [
        "##TÓPICOS AVANZADOS"
      ]
    },
    {
      "cell_type": "markdown",
      "metadata": {
        "id": "yK4k01AHRZBp"
      },
      "source": [
        "Detección de rostros"
      ]
    },
    {
      "cell_type": "code",
      "metadata": {
        "id": "AaGNgS4uUpi4"
      },
      "source": [
        "import cv2\n",
        "import numpy as np\n",
        "from skimage import io\n",
        "from google.colab.patches import cv2_imshow\n",
        "\n",
        "face_cascade = cv2.CascadeClassifier(\"./sample_data/haarcascade_frontalface_default.xml\")\n",
        "eye_cascade = cv2.CascadeClassifier(\"./sample_data/haarcascade_eye.xml\")\n",
        "\n",
        "url = \"https://canadianfriendsofperu.files.wordpress.com/2012/08/cropped-dsc018831.jpg\"\n",
        "#url = \"https://voluntariadodandomas.files.wordpress.com/2020/10/43385.jpg\"\n",
        "image = io.imread(url)\n",
        "image = cv2.cvtColor(image, cv2.COLOR_BGR2RGB)\n",
        "gray = cv2.cvtColor(image, cv2.COLOR_RGB2GRAY)\n",
        "\n",
        "cv2_imshow(image)\n",
        "\n",
        "faces = face_cascade.detectMultiScale(gray, 1.3, 5)\n",
        "for (x,y,w,h) in faces:\n",
        "  cv2.rectangle(image,(x,y),(x+w,y+h),(255,0,0),2)\n",
        "  roi_gray = gray[y:y+h, x:x+w]\n",
        "  roi_color = image[y:y+h, x:x+w]\n",
        "  eyes = eye_cascade.detectMultiScale(roi_gray)\n",
        "  for (ex,ey,ew,eh) in eyes:\n",
        "    cv2.rectangle(roi_color,(ex,ey),(ex+ew,ey+eh),(0,255,0),2)\n",
        "\n",
        "print(\"\")\n",
        "\n",
        "cv2_imshow(image)"
      ],
      "execution_count": null,
      "outputs": []
    }
  ]
}