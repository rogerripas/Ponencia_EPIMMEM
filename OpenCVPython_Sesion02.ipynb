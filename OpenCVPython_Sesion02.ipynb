{
  "nbformat": 4,
  "nbformat_minor": 0,
  "metadata": {
    "colab": {
      "name": "OpenCVPython-Sesion02.ipynb",
      "provenance": [],
      "collapsed_sections": []
    },
    "kernelspec": {
      "name": "python3",
      "display_name": "Python 3"
    }
  },
  "cells": [
    {
      "cell_type": "markdown",
      "metadata": {
        "id": "2m8fNQiwQ0L1"
      },
      "source": [
        "##PROCESAMIENTO DE IMAGENES"
      ]
    },
    {
      "cell_type": "markdown",
      "metadata": {
        "id": "OGteV_NDQ9tc"
      },
      "source": [
        "Operaciones morfológicas: Erosión"
      ]
    },
    {
      "cell_type": "code",
      "metadata": {
        "id": "KqXrgLkHRPKa"
      },
      "source": [
        "import cv2\n",
        "import numpy as np\n",
        "from skimage import io\n",
        "from google.colab.patches import cv2_imshow\n",
        "\n",
        "url = \"https://docs.opencv.org/3.4/opening.png\"\n",
        "image = io.imread(url)\n",
        "image = cv2.cvtColor(image, cv2.COLOR_BGR2RGB)\n",
        "\n",
        "cv2_imshow(image)"
      ],
      "execution_count": null,
      "outputs": []
    },
    {
      "cell_type": "code",
      "metadata": {
        "id": "SriJBF1-Sk31"
      },
      "source": [
        "kernel = np.ones((3,3),np.uint8)\n",
        "erosion = cv2.erode(image,kernel,iterations = 1)\n",
        "cv2_imshow(erosion)"
      ],
      "execution_count": null,
      "outputs": []
    },
    {
      "cell_type": "markdown",
      "metadata": {
        "id": "4OK4hEGhTpYt"
      },
      "source": [
        "Operaciones morfológicas: Dilatación"
      ]
    },
    {
      "cell_type": "code",
      "metadata": {
        "id": "GY6-Y5I5Ttso"
      },
      "source": [
        "url2 = \"https://encrypted-tbn0.gstatic.com/images?q=tbn:ANd9GcRtaI9h7dBWAQD_NQtYYmawA2fBm_rZ0RErjqVCWl4Si-2xej2hDy6sLLWOAuBYOX93zg_zPzS_uQnaKdN7A03hVpm5kx7ZCBRSTw&usqp=CAU&ec=45732304\"\n",
        "image2 = io.imread(url2)\n",
        "image2 = cv2.cvtColor(image2, cv2.COLOR_BGR2RGB)\n",
        "\n",
        "cv2_imshow(image2)"
      ],
      "execution_count": null,
      "outputs": []
    },
    {
      "cell_type": "code",
      "metadata": {
        "id": "stmOz-smUd4d"
      },
      "source": [
        "kernel2 = np.ones((5,5),np.uint8)\n",
        "dilation = cv2.dilate(image2,kernel2,iterations = 1)\n",
        "cv2_imshow(dilation)"
      ],
      "execution_count": null,
      "outputs": []
    },
    {
      "cell_type": "markdown",
      "metadata": {
        "id": "In1mtAZpVS5t"
      },
      "source": [
        "Umbralización"
      ]
    },
    {
      "cell_type": "code",
      "metadata": {
        "id": "tWDZQYTSWKnG"
      },
      "source": [
        "url3 = \"https://i.imgur.com/sIliRDs.jpg\"\n",
        "image3 = io.imread(url3)\n",
        "image3 = cv2.cvtColor(image3, cv2.COLOR_BGR2RGB)\n",
        "\n",
        "cv2_imshow(image3)"
      ],
      "execution_count": null,
      "outputs": []
    },
    {
      "cell_type": "code",
      "metadata": {
        "id": "Fc_eHNNLXsuh"
      },
      "source": [
        "thresh = 0\n",
        "maxValue = 255\n",
        "\n",
        "gray = cv2.cvtColor(image3, cv2.COLOR_RGB2GRAY)\n",
        "\n",
        "th, dst = cv2.threshold(gray, thresh, maxValue, cv2.THRESH_BINARY);\n",
        "cv2_imshow(dst)"
      ],
      "execution_count": null,
      "outputs": []
    },
    {
      "cell_type": "code",
      "metadata": {
        "id": "KLDXUTmQbVdx"
      },
      "source": [
        "url4 = \"https://i.imgur.com/WFdIwlc.jpg\"\n",
        "image4 = io.imread(url4)\n",
        "image4 = cv2.cvtColor(image4, cv2.COLOR_BGR2RGB)\n",
        "\n",
        "cv2_imshow(image4)"
      ],
      "execution_count": null,
      "outputs": []
    },
    {
      "cell_type": "code",
      "metadata": {
        "id": "xnwLUBkMcMQB"
      },
      "source": [
        "lower_red = np.array([0,20,145])\n",
        "upper_red = np.array([70,80,255])\n",
        "\n",
        "mask = cv2.inRange(image4, lower_red, upper_red)\n",
        "cv2_imshow(mask)\n",
        "\n",
        "print(\"\")\n",
        "\n",
        "res = cv2.bitwise_and(image4,image4, mask= mask)\n",
        "cv2_imshow(res)"
      ],
      "execution_count": null,
      "outputs": []
    },
    {
      "cell_type": "markdown",
      "metadata": {
        "id": "sVabq2udkaJS"
      },
      "source": [
        "##EXTRACCION DE CARACTERISTICAS"
      ]
    },
    {
      "cell_type": "markdown",
      "metadata": {
        "id": "hcetwSjUkghb"
      },
      "source": [
        "Detección de contornos"
      ]
    },
    {
      "cell_type": "code",
      "metadata": {
        "id": "U-wGg2AskpTe"
      },
      "source": [
        "url5 = \"https://ciudadesconencanto.com/wp-content/uploads/2019/11/Erecteion.jpg\"\n",
        "image5 = io.imread(url5)\n",
        "image5 = cv2.cvtColor(image5, cv2.COLOR_BGR2RGB)\n",
        "\n",
        "cv2_imshow(image5)"
      ],
      "execution_count": null,
      "outputs": []
    },
    {
      "cell_type": "code",
      "metadata": {
        "id": "ZFPsQlkInPLg"
      },
      "source": [
        "gray2 = cv2.cvtColor(image5, cv2.COLOR_RGB2GRAY)\n",
        "\n",
        "edges = cv2.Canny(gray2, 80, 200)\n",
        "cv2_imshow(edges)"
      ],
      "execution_count": null,
      "outputs": []
    }
  ]
}